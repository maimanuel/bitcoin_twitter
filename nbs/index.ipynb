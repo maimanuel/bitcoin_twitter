{
 "cells": [
  {
   "cell_type": "code",
   "execution_count": null,
   "metadata": {},
   "outputs": [],
   "source": [
    "#hide\n",
    "from bitcoin_twitter.core import *\n",
    "import matplotlib.pyplot as plt\n",
    "%matplotlib inline"
   ]
  },
  {
   "cell_type": "markdown",
   "metadata": {},
   "source": [
    "# Bitcoin Twitter\n",
    "\n",
    "> What is the twittersphere saying about bitcoin?\n",
    "\n",
    "- toc: true\n",
    "- author: true"
   ]
  },
  {
   "cell_type": "markdown",
   "metadata": {},
   "source": [
    "## Install"
   ]
  },
  {
   "cell_type": "markdown",
   "metadata": {},
   "source": [
    "`pip install git+https://github.com/maimanuel/bitcoin_twitter`"
   ]
  },
  {
   "cell_type": "markdown",
   "metadata": {},
   "source": [
    "## How to use"
   ]
  },
  {
   "cell_type": "markdown",
   "metadata": {},
   "source": [
    "This package uses the twitter api and will require that you have API and Secret API keys.\n",
    "Create a `twitter_credentials.py` file containing least the following two lines\n",
    "```python\n",
    "CONSUMER_KEY = '' # Api Key in quotes\n",
    "CONSUMER_SECRET = '' # API Secret Key in quotes\n",
    "```\n",
    "\n",
    "This file will be imported as a python module. If you are working with github, it is advised to include your credentials file in `twitter_credentials.py` your `.gitignore`, to never push it to github.\n",
    "\n",
    "> Don't commit your credentials file before it's added to `.gitignore`"
   ]
  },
  {
   "cell_type": "markdown",
   "metadata": {},
   "source": [
    "## Set up a connection\n"
   ]
  },
  {
   "cell_type": "code",
   "execution_count": null,
   "metadata": {},
   "outputs": [],
   "source": [
    "#local\n",
    "from twitter_credentials import CONSUMER_KEY,CONSUMER_SECRET "
   ]
  },
  {
   "cell_type": "code",
   "execution_count": null,
   "metadata": {},
   "outputs": [],
   "source": [
    "#local\n",
    "conn = connector(consumer_key=CONSUMER_KEY, consumer_secret=CONSUMER_SECRET)"
   ]
  },
  {
   "cell_type": "markdown",
   "metadata": {},
   "source": [
    "## Get a dataframe of tweets"
   ]
  },
  {
   "cell_type": "code",
   "execution_count": null,
   "metadata": {},
   "outputs": [
    {
     "data": {
      "text/html": [
       "<div>\n",
       "<style scoped>\n",
       "    .dataframe tbody tr th:only-of-type {\n",
       "        vertical-align: middle;\n",
       "    }\n",
       "\n",
       "    .dataframe tbody tr th {\n",
       "        vertical-align: top;\n",
       "    }\n",
       "\n",
       "    .dataframe thead th {\n",
       "        text-align: right;\n",
       "    }\n",
       "</style>\n",
       "<table border=\"1\" class=\"dataframe\">\n",
       "  <thead>\n",
       "    <tr style=\"text-align: right;\">\n",
       "      <th></th>\n",
       "      <th>tweet_id</th>\n",
       "      <th>tweet_text</th>\n",
       "      <th>tweet_created_at</th>\n",
       "      <th>tweet_user_id</th>\n",
       "      <th>user_name</th>\n",
       "      <th>user_screen_name</th>\n",
       "      <th>retweet_count</th>\n",
       "      <th>tweet_geo</th>\n",
       "      <th>tweet_coordinates</th>\n",
       "    </tr>\n",
       "  </thead>\n",
       "  <tbody>\n",
       "    <tr>\n",
       "      <th>0</th>\n",
       "      <td>1275003968305926145</td>\n",
       "      <td>400%+ Profit from Last Month's Calls🚀🔥\\n\\nFor ...</td>\n",
       "      <td>2020-06-22 09:53:29</td>\n",
       "      <td>1271670218842992641</td>\n",
       "      <td>Kaya</td>\n",
       "      <td>cryptoexp32562A</td>\n",
       "      <td>0</td>\n",
       "      <td>None</td>\n",
       "      <td>None</td>\n",
       "    </tr>\n",
       "    <tr>\n",
       "      <th>1</th>\n",
       "      <td>1275003910256824326</td>\n",
       "      <td>$OST\\n\\n$btc #btc #bitcoin #altcoins https://t...</td>\n",
       "      <td>2020-06-22 09:53:15</td>\n",
       "      <td>115516978</td>\n",
       "      <td>Crypto Ranger</td>\n",
       "      <td>Crypto_Ranger85</td>\n",
       "      <td>0</td>\n",
       "      <td>None</td>\n",
       "      <td>None</td>\n",
       "    </tr>\n",
       "    <tr>\n",
       "      <th>2</th>\n",
       "      <td>1275003872726200322</td>\n",
       "      <td>The Institutional Smart-Money Is Trapping Unex...</td>\n",
       "      <td>2020-06-22 09:53:06</td>\n",
       "      <td>1142737563481980931</td>\n",
       "      <td>Vince Prince</td>\n",
       "      <td>VincePrince244</td>\n",
       "      <td>0</td>\n",
       "      <td>None</td>\n",
       "      <td>None</td>\n",
       "    </tr>\n",
       "    <tr>\n",
       "      <th>3</th>\n",
       "      <td>1275003856104153088</td>\n",
       "      <td>Gov’t threatens to take action vs #cryptocurre...</td>\n",
       "      <td>2020-06-22 09:53:02</td>\n",
       "      <td>735038454262730752</td>\n",
       "      <td>Fintech Philippines</td>\n",
       "      <td>FintechPH</td>\n",
       "      <td>0</td>\n",
       "      <td>None</td>\n",
       "      <td>None</td>\n",
       "    </tr>\n",
       "    <tr>\n",
       "      <th>4</th>\n",
       "      <td>1275003823824629760</td>\n",
       "      <td>#Bitcoin might fall to $8,400 soon as #BTC tra...</td>\n",
       "      <td>2020-06-22 09:52:54</td>\n",
       "      <td>2338229497</td>\n",
       "      <td>BTCC</td>\n",
       "      <td>YourBTCC</td>\n",
       "      <td>0</td>\n",
       "      <td>None</td>\n",
       "      <td>None</td>\n",
       "    </tr>\n",
       "  </tbody>\n",
       "</table>\n",
       "</div>"
      ],
      "text/plain": [
       "              tweet_id                                         tweet_text  \\\n",
       "0  1275003968305926145  400%+ Profit from Last Month's Calls🚀🔥\\n\\nFor ...   \n",
       "1  1275003910256824326  $OST\\n\\n$btc #btc #bitcoin #altcoins https://t...   \n",
       "2  1275003872726200322  The Institutional Smart-Money Is Trapping Unex...   \n",
       "3  1275003856104153088  Gov’t threatens to take action vs #cryptocurre...   \n",
       "4  1275003823824629760  #Bitcoin might fall to $8,400 soon as #BTC tra...   \n",
       "\n",
       "     tweet_created_at        tweet_user_id            user_name  \\\n",
       "0 2020-06-22 09:53:29  1271670218842992641                 Kaya   \n",
       "1 2020-06-22 09:53:15            115516978        Crypto Ranger   \n",
       "2 2020-06-22 09:53:06  1142737563481980931         Vince Prince   \n",
       "3 2020-06-22 09:53:02   735038454262730752  Fintech Philippines   \n",
       "4 2020-06-22 09:52:54           2338229497                 BTCC   \n",
       "\n",
       "  user_screen_name  retweet_count tweet_geo tweet_coordinates  \n",
       "0  cryptoexp32562A              0      None              None  \n",
       "1  Crypto_Ranger85              0      None              None  \n",
       "2   VincePrince244              0      None              None  \n",
       "3        FintechPH              0      None              None  \n",
       "4         YourBTCC              0      None              None  "
      ]
     },
     "execution_count": null,
     "metadata": {},
     "output_type": "execute_result"
    }
   ],
   "source": [
    "#local\n",
    "df_tweets = conn.get_tweets()\n",
    "df_tweets.head()"
   ]
  },
  {
   "cell_type": "markdown",
   "metadata": {},
   "source": [
    "You can also modify the search query to, for example, only find popular tweets by adding the query paramter `result_type=popular`"
   ]
  },
  {
   "cell_type": "code",
   "execution_count": null,
   "metadata": {},
   "outputs": [],
   "source": [
    "#local\n",
    "query = '#Bitcoin -filter:retweets lang:en result_type=popular'\n",
    "df_tweets = conn.get_tweets(query=query,n_items=10000)"
   ]
  },
  {
   "cell_type": "code",
   "execution_count": null,
   "metadata": {},
   "outputs": [
    {
     "data": {
      "text/html": [
       "<div>\n",
       "<style scoped>\n",
       "    .dataframe tbody tr th:only-of-type {\n",
       "        vertical-align: middle;\n",
       "    }\n",
       "\n",
       "    .dataframe tbody tr th {\n",
       "        vertical-align: top;\n",
       "    }\n",
       "\n",
       "    .dataframe thead th {\n",
       "        text-align: right;\n",
       "    }\n",
       "</style>\n",
       "<table border=\"1\" class=\"dataframe\">\n",
       "  <thead>\n",
       "    <tr style=\"text-align: right;\">\n",
       "      <th></th>\n",
       "      <th>tweet_id</th>\n",
       "      <th>tweet_text</th>\n",
       "      <th>tweet_created_at</th>\n",
       "      <th>tweet_user_id</th>\n",
       "      <th>user_name</th>\n",
       "      <th>user_screen_name</th>\n",
       "      <th>retweet_count</th>\n",
       "      <th>tweet_geo</th>\n",
       "      <th>tweet_coordinates</th>\n",
       "    </tr>\n",
       "  </thead>\n",
       "  <tbody>\n",
       "    <tr>\n",
       "      <th>995</th>\n",
       "      <td>1275017093570801664</td>\n",
       "      <td>I see a lot of #fud regarding #bch \\n\\nI don’t...</td>\n",
       "      <td>2020-06-22 10:45:38</td>\n",
       "      <td>950480284377546752</td>\n",
       "      <td>Professor Freedom 🛡</td>\n",
       "      <td>BTC__Blockchain</td>\n",
       "      <td>0</td>\n",
       "      <td>None</td>\n",
       "      <td>None</td>\n",
       "    </tr>\n",
       "    <tr>\n",
       "      <th>996</th>\n",
       "      <td>1275016992517480449</td>\n",
       "      <td>Say no to shitcoins; say yes to #bitcoin https...</td>\n",
       "      <td>2020-06-22 10:45:14</td>\n",
       "      <td>721964509078937600</td>\n",
       "      <td>21 Million 🔴 🚀</td>\n",
       "      <td>Cipherhoodlum</td>\n",
       "      <td>0</td>\n",
       "      <td>None</td>\n",
       "      <td>None</td>\n",
       "    </tr>\n",
       "    <tr>\n",
       "      <th>997</th>\n",
       "      <td>1275016966986661889</td>\n",
       "      <td>This is not 2009. But this is better than Bitc...</td>\n",
       "      <td>2020-06-22 10:45:08</td>\n",
       "      <td>4045549725</td>\n",
       "      <td>Robin Lift</td>\n",
       "      <td>RobinLift</td>\n",
       "      <td>0</td>\n",
       "      <td>None</td>\n",
       "      <td>None</td>\n",
       "    </tr>\n",
       "    <tr>\n",
       "      <th>998</th>\n",
       "      <td>1275016958748930048</td>\n",
       "      <td>Calm Before The Storm? 5 Bitcoin Price Factors...</td>\n",
       "      <td>2020-06-22 10:45:06</td>\n",
       "      <td>1255271270</td>\n",
       "      <td>BitValley</td>\n",
       "      <td>VernonBitValley</td>\n",
       "      <td>0</td>\n",
       "      <td>None</td>\n",
       "      <td>None</td>\n",
       "    </tr>\n",
       "    <tr>\n",
       "      <th>999</th>\n",
       "      <td>1275016948720349184</td>\n",
       "      <td>Bitmain Co-Founder Offers Share Buyback at $4B...</td>\n",
       "      <td>2020-06-22 10:45:03</td>\n",
       "      <td>1255271270</td>\n",
       "      <td>BitValley</td>\n",
       "      <td>VernonBitValley</td>\n",
       "      <td>0</td>\n",
       "      <td>None</td>\n",
       "      <td>None</td>\n",
       "    </tr>\n",
       "  </tbody>\n",
       "</table>\n",
       "</div>"
      ],
      "text/plain": [
       "                tweet_id                                         tweet_text  \\\n",
       "995  1275017093570801664  I see a lot of #fud regarding #bch \\n\\nI don’t...   \n",
       "996  1275016992517480449  Say no to shitcoins; say yes to #bitcoin https...   \n",
       "997  1275016966986661889  This is not 2009. But this is better than Bitc...   \n",
       "998  1275016958748930048  Calm Before The Storm? 5 Bitcoin Price Factors...   \n",
       "999  1275016948720349184  Bitmain Co-Founder Offers Share Buyback at $4B...   \n",
       "\n",
       "       tweet_created_at       tweet_user_id            user_name  \\\n",
       "995 2020-06-22 10:45:38  950480284377546752  Professor Freedom 🛡   \n",
       "996 2020-06-22 10:45:14  721964509078937600       21 Million 🔴 🚀   \n",
       "997 2020-06-22 10:45:08          4045549725           Robin Lift   \n",
       "998 2020-06-22 10:45:06          1255271270            BitValley   \n",
       "999 2020-06-22 10:45:03          1255271270            BitValley   \n",
       "\n",
       "    user_screen_name  retweet_count tweet_geo tweet_coordinates  \n",
       "995  BTC__Blockchain              0      None              None  \n",
       "996    Cipherhoodlum              0      None              None  \n",
       "997        RobinLift              0      None              None  \n",
       "998  VernonBitValley              0      None              None  \n",
       "999  VernonBitValley              0      None              None  "
      ]
     },
     "execution_count": null,
     "metadata": {},
     "output_type": "execute_result"
    }
   ],
   "source": [
    "#local\n",
    "df_tweets.tail()"
   ]
  },
  {
   "cell_type": "code",
   "execution_count": null,
   "metadata": {},
   "outputs": [
    {
     "data": {
      "text/plain": [
       "(1000, 9)"
      ]
     },
     "execution_count": null,
     "metadata": {},
     "output_type": "execute_result"
    }
   ],
   "source": [
    "df_tweets.shape"
   ]
  },
  {
   "cell_type": "markdown",
   "metadata": {},
   "source": [
    "For more information on twitter search please consult the twitter [standard search operator reference](https://developer.twitter.com/en/docs/tweets/search/guides/standard-operators), the twitter [standard search API reference](https://developer.twitter.com/en/docs/tweets/search/api-reference/get-search-tweets), and the [tweepy Api reference](http://docs.tweepy.org/en/latest/index.html).                                                          "
   ]
  },
  {
   "cell_type": "code",
   "execution_count": null,
   "metadata": {},
   "outputs": [
    {
     "data": {
      "text/plain": [
       "<matplotlib.axes._subplots.AxesSubplot at 0x126a1a710>"
      ]
     },
     "execution_count": null,
     "metadata": {},
     "output_type": "execute_result"
    },
    {
     "data": {
      "image/png": "[encoded data removed]",
      "text/plain": [
       "<Figure size 432x288 with 1 Axes>"
      ]
     },
     "metadata": {
      "needs_background": "light"
     },
     "output_type": "display_data"
    }
   ],
   "source": [
    "df_tweets.plot(x='tweet_created_at',y='retweet_count')"
   ]
  },
  {
   "cell_type": "code",
   "execution_count": null,
   "metadata": {},
   "outputs": [],
   "source": []
  }
 ],
 "metadata": {
  "kernelspec": {
   "display_name": "Python [conda env:btc_tw] *",
   "language": "python",
   "name": "conda-env-btc_tw-py"
  }
 },
 "nbformat": 4,
 "nbformat_minor": 4
}
