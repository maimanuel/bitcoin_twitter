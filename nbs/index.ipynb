{
 "cells": [
  {
   "cell_type": "code",
   "execution_count": null,
   "metadata": {},
   "outputs": [],
   "source": [
    "#hide\n",
    "from bitcoin_twitter.core import *"
   ]
  },
  {
   "cell_type": "markdown",
   "metadata": {},
   "source": [
    "# Bitcoin Twitter\n",
    "\n",
    "> What is the twittersphere saying about bitcoin?"
   ]
  },
  {
   "cell_type": "markdown",
   "metadata": {},
   "source": [
    "## Install"
   ]
  },
  {
   "cell_type": "markdown",
   "metadata": {},
   "source": [
    "`pip install bitcoin_twitter`"
   ]
  },
  {
   "cell_type": "markdown",
   "metadata": {},
   "source": [
    "## How to use"
   ]
  },
  {
   "cell_type": "markdown",
   "metadata": {},
   "source": [
    "This package uses the twitter api and will require that you have API and Secret API keys.\n",
    "Create a `twitter_credentials.py` file containing least the following two lines\n",
    "```python\n",
    "CONSUMER_KEY = '' # Api Key in quotes\n",
    "CONSUMER_SECRET = '' # API Secret Key in quotes\n",
    "```\n",
    "\n",
    "This file will be imported as a python module. If you are working with github, it is advised to include your credentials file in `twitter_credentials.py` your `.gitignore`, to never push it to github.\n",
    "\n",
    "> Don't commit your credentials file before it's added to `.gitignore`"
   ]
  },
  {
   "cell_type": "markdown",
   "metadata": {},
   "source": [
    "## Set up a connection\n",
    "\n"
   ]
  },
  {
   "cell_type": "code",
   "execution_count": null,
   "metadata": {},
   "outputs": [],
   "source": [
    "from twitter_credentials import CONSUMER_KEY,CONSUMER_SECRET "
   ]
  },
  {
   "cell_type": "code",
   "execution_count": null,
   "metadata": {},
   "outputs": [],
   "source": [
    "conn = connector(consumer_key=CONSUMER_KEY, consumer_secret=CONSUMER_SECRET)"
   ]
  },
  {
   "cell_type": "markdown",
   "metadata": {},
   "source": [
    "## Get a dataframe of tweets"
   ]
  },
  {
   "cell_type": "code",
   "execution_count": null,
   "metadata": {},
   "outputs": [],
   "source": [
    "df_tweets = conn.get_tweets()"
   ]
  },
  {
   "cell_type": "code",
   "execution_count": null,
   "metadata": {},
   "outputs": [
    {
     "name": "stdout",
     "output_type": "stream",
     "text": [
      "|    |            tweet_id | tweet_text                                                                                                                                     | tweet_created_at    |       tweet_user_id | user_name                  | user_screen_name   |   retweet_count | tweet_geo   | tweet_coordinates   |\n",
      "|---:|--------------------:|:-----------------------------------------------------------------------------------------------------------------------------------------------|:--------------------|--------------------:|:---------------------------|:-------------------|----------------:|:------------|:--------------------|\n",
      "|  0 | 1274790798731567104 | In recent AMA @Covir_io team revealed how #Covir can fight against the Covid19 corona virus.                                                 | 2020-06-21 19:46:25 | 1010946155109203968 | Mahim Hassan               | MahimHassan20      |               0 |             |                     |\n",
      "|    |                     | #Covir is high classy… https://t.co/WZONzPKkop                                                                                               |                     |                     |                            |                    |                 |             |                     |\n",
      "|  1 | 1274790792306085888 | @DinoMeIaye #Bitcoin #Ethereum Join our team now to know more. Do you know that with your smartphone and ability to… https://t.co/kjpDdSfDDP | 2020-06-21 19:46:24 |          1029302077 | Your Favorite Ex boyfriend | J_Charisma101      |               0 |             |                     |\n",
      "|  2 | 1274790732000354306 | $STEEM All Targets Hit! 30% Profit💥🔥                                                                                                         | 2020-06-21 19:46:09 | 1247057677336719360 | Isabella                   | cryptoexp54261B    |               0 |             |                     |\n",
      "|    |                     |                                                                                                                                              |                     |                     |                            |                    |                 |             |                     |\n",
      "|    |                     | For 10x gains, join https://t.co/knmjRPZ27y                                                                                                  |                     |                     |                            |                    |                 |             |                     |\n",
      "|    |                     |                                                                                                                                              |                     |                     |                            |                    |                 |             |                     |\n",
      "|    |                     | $TEL #nem #binance #bitcoin… https://t.co/dGYdShz8Yf                                                                                         |                     |                     |                            |                    |                 |             |                     |\n",
      "|  3 | 1274790699783712769 | #EURUSD all targets done, 2800USD Profits in a day.                                                                                          | 2020-06-21 19:46:01 | 1249359552702640132 | Aleena                     | Aleena_232         |               0 |             |                     |\n",
      "|    |                     |                                                                                                                                              |                     |                     |                            |                    |                 |             |                     |\n",
      "|    |                     | For more Free signals : https://t.co/jMqjWu2LvY                                                                                              |                     |                     |                            |                    |                 |             |                     |\n",
      "|    |                     |                                                                                                                                              |                     |                     |                            |                    |                 |             |                     |\n",
      "|    |                     | #USDCAD… https://t.co/c64ikAETck                                                                                                             |                     |                     |                            |                    |                 |             |                     |\n",
      "|  4 | 1274790661498318851 | @MobilePunch #Bitcoin #Ethereum Join our team now to know more. Do you know that with your smartphone and ability t… https://t.co/e1ve3VC52R | 2020-06-21 19:45:52 |          1029302077 | Your Favorite Ex boyfriend | J_Charisma101      |               0 |             |                     |\n"
     ]
    }
   ],
   "source": [
    "#hide\n",
    "print(df_tweets.head().to_markdown())"
   ]
  },
  {
   "cell_type": "markdown",
   "metadata": {},
   "source": [
    "|    |            tweet_id | tweet_text                                                                                                                                     | tweet_created_at    |       tweet_user_id | user_name                  | user_screen_name   |   retweet_count | tweet_geo   | tweet_coordinates   |\n",
    "|---:|--------------------:|:-----------------------------------------------------------------------------------------------------------------------------------------------|:--------------------|--------------------:|:---------------------------|:-------------------|----------------:|:------------|:--------------------|\n",
    "|  0 | 1274790798731567104 | In recent AMA @Covir_io team revealed how #Covir can fight against the Covid19 corona virus.                                                 | 2020-06-21 19:46:25 | 1010946155109203968 | Mahim Hassan               | MahimHassan20      |               0 |             |                     |\n",
    "|    |                     | #Covir is high classy… https://t.co/WZONzPKkop                                                                                               |                     |                     |                            |                    |                 |             |                     |\n",
    "|  1 | 1274790792306085888 | @DinoMeIaye #Bitcoin #Ethereum Join our team now to know more. Do you know that with your smartphone and ability to… https://t.co/kjpDdSfDDP | 2020-06-21 19:46:24 |          1029302077 | Your Favorite Ex boyfriend | J_Charisma101      |               0 |             |                     |\n",
    "|  2 | 1274790732000354306 | $STEEM All Targets Hit! 30% Profit💥🔥                                                                                                         | 2020-06-21 19:46:09 | 1247057677336719360 | Isabella                   | cryptoexp54261B    |               0 |             |                     |\n",
    "|    |                     |                                                                                                                                              |                     |                     |                            |                    |                 |             |                     |\n",
    "|    |                     | For 10x gains, join https://t.co/knmjRPZ27y                                                                                                  |                     |                     |                            |                    |                 |             |                     |\n",
    "|    |                     |                                                                                                                                              |                     |                     |                            |                    |                 |             |                     |\n",
    "|    |                     | $TEL #nem #binance #bitcoin… https://t.co/dGYdShz8Yf                                                                                         |                     |                     |                            |                    |                 |             |                     |\n",
    "|  3 | 1274790699783712769 | #EURUSD all targets done, 2800USD Profits in a day.                                                                                          | 2020-06-21 19:46:01 | 1249359552702640132 | Aleena                     | Aleena_232         |               0 |             |                     |\n",
    "|    |                     |                                                                                                                                              |                     |                     |                            |                    |                 |             |                     |\n",
    "|    |                     | For more Free signals : https://t.co/jMqjWu2LvY                                                                                              |                     |                     |                            |                    |                 |             |                     |\n",
    "|    |                     |                                                                                                                                              |                     |                     |                            |                    |                 |             |                     |\n",
    "|    |                     | #USDCAD… https://t.co/c64ikAETck                                                                                                             |                     |                     |                            |                    |                 |             |                     |\n",
    "|  4 | 1274790661498318851 | @MobilePunch #Bitcoin #Ethereum Join our team now to know more. Do you know that with your smartphone and ability t… https://t.co/e1ve3VC52R | 2020-06-21 19:45:52 |          1029302077 | Your Favorite Ex boyfriend | J_Charisma101      |               0 |             |                     |"
   ]
  },
  {
   "cell_type": "code",
   "execution_count": null,
   "metadata": {},
   "outputs": [],
   "source": []
  }
 ],
 "metadata": {
  "kernelspec": {
   "display_name": "Python [conda env:btc_tw] *",
   "language": "python",
   "name": "conda-env-btc_tw-py"
  }
 },
 "nbformat": 4,
 "nbformat_minor": 4
}
