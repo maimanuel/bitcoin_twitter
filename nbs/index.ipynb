{
 "cells": [
  {
   "cell_type": "code",
   "execution_count": null,
   "metadata": {},
   "outputs": [],
   "source": [
    "#hide\n",
    "from bitcoin_twitter.core import *"
   ]
  },
  {
   "cell_type": "markdown",
   "metadata": {},
   "source": [
    "# Bitcoin Twitter\n",
    "\n",
    "> What is the twittersphere saying about bitcoin?\n",
    "\n",
    "- toc: true\n",
    "- author: true"
   ]
  },
  {
   "cell_type": "markdown",
   "metadata": {},
   "source": [
    "## Install"
   ]
  },
  {
   "cell_type": "markdown",
   "metadata": {},
   "source": [
    "`pip install git+https://github.com/maimanuel/bitcoin_twitter`"
   ]
  },
  {
   "cell_type": "markdown",
   "metadata": {},
   "source": [
    "## How to use"
   ]
  },
  {
   "cell_type": "markdown",
   "metadata": {},
   "source": [
    "This package uses the twitter api and will require that you have API and Secret API keys.\n",
    "Create a `twitter_credentials.py` file containing least the following two lines\n",
    "```python\n",
    "CONSUMER_KEY = '' # Api Key in quotes\n",
    "CONSUMER_SECRET = '' # API Secret Key in quotes\n",
    "```\n",
    "\n",
    "This file will be imported as a python module. If you are working with github, it is advised to include your credentials file in `twitter_credentials.py` your `.gitignore`, to never push it to github.\n",
    "\n",
    "> Don't commit your credentials file before it's added to `.gitignore`"
   ]
  },
  {
   "cell_type": "markdown",
   "metadata": {},
   "source": [
    "## Set up a connection\n"
   ]
  },
  {
   "cell_type": "code",
   "execution_count": null,
   "metadata": {},
   "outputs": [],
   "source": [
    "#local\n",
    "from twitter_credentials import CONSUMER_KEY,CONSUMER_SECRET "
   ]
  },
  {
   "cell_type": "code",
   "execution_count": null,
   "metadata": {},
   "outputs": [],
   "source": [
    "#local\n",
    "conn = connector(consumer_key=CONSUMER_KEY, consumer_secret=CONSUMER_SECRET)"
   ]
  },
  {
   "cell_type": "markdown",
   "metadata": {},
   "source": [
    "## Get a dataframe of tweets"
   ]
  },
  {
   "cell_type": "code",
   "execution_count": null,
   "metadata": {},
   "outputs": [
    {
     "data": {
      "text/html": [
       "<div>\n",
       "<style scoped>\n",
       "    .dataframe tbody tr th:only-of-type {\n",
       "        vertical-align: middle;\n",
       "    }\n",
       "\n",
       "    .dataframe tbody tr th {\n",
       "        vertical-align: top;\n",
       "    }\n",
       "\n",
       "    .dataframe thead th {\n",
       "        text-align: right;\n",
       "    }\n",
       "</style>\n",
       "<table border=\"1\" class=\"dataframe\">\n",
       "  <thead>\n",
       "    <tr style=\"text-align: right;\">\n",
       "      <th></th>\n",
       "      <th>tweet_id</th>\n",
       "      <th>tweet_text</th>\n",
       "      <th>tweet_created_at</th>\n",
       "      <th>tweet_user_id</th>\n",
       "      <th>user_name</th>\n",
       "      <th>user_screen_name</th>\n",
       "      <th>retweet_count</th>\n",
       "      <th>tweet_geo</th>\n",
       "      <th>tweet_coordinates</th>\n",
       "    </tr>\n",
       "  </thead>\n",
       "  <tbody>\n",
       "    <tr>\n",
       "      <th>0</th>\n",
       "      <td>1275003968305926145</td>\n",
       "      <td>400%+ Profit from Last Month's Calls🚀🔥\\n\\nFor ...</td>\n",
       "      <td>2020-06-22 09:53:29</td>\n",
       "      <td>1271670218842992641</td>\n",
       "      <td>Kaya</td>\n",
       "      <td>cryptoexp32562A</td>\n",
       "      <td>0</td>\n",
       "      <td>None</td>\n",
       "      <td>None</td>\n",
       "    </tr>\n",
       "    <tr>\n",
       "      <th>1</th>\n",
       "      <td>1275003910256824326</td>\n",
       "      <td>$OST\\n\\n$btc #btc #bitcoin #altcoins https://t...</td>\n",
       "      <td>2020-06-22 09:53:15</td>\n",
       "      <td>115516978</td>\n",
       "      <td>Crypto Ranger</td>\n",
       "      <td>Crypto_Ranger85</td>\n",
       "      <td>0</td>\n",
       "      <td>None</td>\n",
       "      <td>None</td>\n",
       "    </tr>\n",
       "    <tr>\n",
       "      <th>2</th>\n",
       "      <td>1275003872726200322</td>\n",
       "      <td>The Institutional Smart-Money Is Trapping Unex...</td>\n",
       "      <td>2020-06-22 09:53:06</td>\n",
       "      <td>1142737563481980931</td>\n",
       "      <td>Vince Prince</td>\n",
       "      <td>VincePrince244</td>\n",
       "      <td>0</td>\n",
       "      <td>None</td>\n",
       "      <td>None</td>\n",
       "    </tr>\n",
       "    <tr>\n",
       "      <th>3</th>\n",
       "      <td>1275003856104153088</td>\n",
       "      <td>Gov’t threatens to take action vs #cryptocurre...</td>\n",
       "      <td>2020-06-22 09:53:02</td>\n",
       "      <td>735038454262730752</td>\n",
       "      <td>Fintech Philippines</td>\n",
       "      <td>FintechPH</td>\n",
       "      <td>0</td>\n",
       "      <td>None</td>\n",
       "      <td>None</td>\n",
       "    </tr>\n",
       "    <tr>\n",
       "      <th>4</th>\n",
       "      <td>1275003823824629760</td>\n",
       "      <td>#Bitcoin might fall to $8,400 soon as #BTC tra...</td>\n",
       "      <td>2020-06-22 09:52:54</td>\n",
       "      <td>2338229497</td>\n",
       "      <td>BTCC</td>\n",
       "      <td>YourBTCC</td>\n",
       "      <td>0</td>\n",
       "      <td>None</td>\n",
       "      <td>None</td>\n",
       "    </tr>\n",
       "  </tbody>\n",
       "</table>\n",
       "</div>"
      ],
      "text/plain": [
       "              tweet_id                                         tweet_text  \\\n",
       "0  1275003968305926145  400%+ Profit from Last Month's Calls🚀🔥\\n\\nFor ...   \n",
       "1  1275003910256824326  $OST\\n\\n$btc #btc #bitcoin #altcoins https://t...   \n",
       "2  1275003872726200322  The Institutional Smart-Money Is Trapping Unex...   \n",
       "3  1275003856104153088  Gov’t threatens to take action vs #cryptocurre...   \n",
       "4  1275003823824629760  #Bitcoin might fall to $8,400 soon as #BTC tra...   \n",
       "\n",
       "     tweet_created_at        tweet_user_id            user_name  \\\n",
       "0 2020-06-22 09:53:29  1271670218842992641                 Kaya   \n",
       "1 2020-06-22 09:53:15            115516978        Crypto Ranger   \n",
       "2 2020-06-22 09:53:06  1142737563481980931         Vince Prince   \n",
       "3 2020-06-22 09:53:02   735038454262730752  Fintech Philippines   \n",
       "4 2020-06-22 09:52:54           2338229497                 BTCC   \n",
       "\n",
       "  user_screen_name  retweet_count tweet_geo tweet_coordinates  \n",
       "0  cryptoexp32562A              0      None              None  \n",
       "1  Crypto_Ranger85              0      None              None  \n",
       "2   VincePrince244              0      None              None  \n",
       "3        FintechPH              0      None              None  \n",
       "4         YourBTCC              0      None              None  "
      ]
     },
     "execution_count": null,
     "metadata": {},
     "output_type": "execute_result"
    }
   ],
   "source": [
    "#local\n",
    "df_tweets = conn.get_tweets()\n",
    "df_tweets.head()"
   ]
  },
  {
   "cell_type": "markdown",
   "metadata": {},
   "source": [
    "#hide\n",
    "|    |            tweet_id | tweet_text                                                                                                                                     | tweet_created_at    |       tweet_user_id | user_name                  | user_screen_name   |   retweet_count | tweet_geo   | tweet_coordinates   |\n",
    "|---:|--------------------:|:-----------------------------------------------------------------------------------------------------------------------------------------------|:--------------------|--------------------:|:---------------------------|:-------------------|----------------:|:------------|:--------------------|\n",
    "|  0 | 1274790798731567104 | In recent AMA @Covir_io team revealed how #Covir can fight against the Covid19 corona virus.                                                 | 2020-06-21 19:46:25 | 1010946155109203968 | Mahim Hassan               | MahimHassan20      |               0 |             |                     |\n",
    "|    |                     | #Covir is high classy… https://t.co/WZONzPKkop                                                                                               |                     |                     |                            |                    |                 |             |                     |\n",
    "|  1 | 1274790792306085888 | @DinoMeIaye #Bitcoin #Ethereum Join our team now to know more. Do you know that with your smartphone and ability to… https://t.co/kjpDdSfDDP | 2020-06-21 19:46:24 |          1029302077 | Your Favorite Ex boyfriend | J_Charisma101      |               0 |             |                     |\n",
    "|  2 | 1274790732000354306 | $STEEM All Targets Hit! 30% Profit💥🔥                                                                                                         | 2020-06-21 19:46:09 | 1247057677336719360 | Isabella                   | cryptoexp54261B    |               0 |             |                     |\n",
    "|    |                     |                                                                                                                                              |                     |                     |                            |                    |                 |             |                     |\n",
    "|    |                     | For 10x gains, join https://t.co/knmjRPZ27y                                                                                                  |                     |                     |                            |                    |                 |             |                     |\n",
    "|    |                     |                                                                                                                                              |                     |                     |                            |                    |                 |             |                     |\n",
    "|    |                     | $TEL #nem #binance #bitcoin… https://t.co/dGYdShz8Yf                                                                                         |                     |                     |                            |                    |                 |             |                     |\n",
    "|  3 | 1274790699783712769 | #EURUSD all targets done, 2800USD Profits in a day.                                                                                          | 2020-06-21 19:46:01 | 1249359552702640132 | Aleena                     | Aleena_232         |               0 |             |                     |\n",
    "|    |                     |                                                                                                                                              |                     |                     |                            |                    |                 |             |                     |\n",
    "|    |                     | For more Free signals : https://t.co/jMqjWu2LvY                                                                                              |                     |                     |                            |                    |                 |             |                     |\n",
    "|    |                     |                                                                                                                                              |                     |                     |                            |                    |                 |             |                     |\n",
    "|    |                     | #USDCAD… https://t.co/c64ikAETck                                                                                                             |                     |                     |                            |                    |                 |             |                     |\n",
    "|  4 | 1274790661498318851 | @MobilePunch #Bitcoin #Ethereum Join our team now to know more. Do you know that with your smartphone and ability t… https://t.co/e1ve3VC52R | 2020-06-21 19:45:52 |          1029302077 | Your Favorite Ex boyfriend | J_Charisma101      |               0 |             |                     |"
   ]
  },
  {
   "cell_type": "markdown",
   "metadata": {},
   "source": [
    "You can also modify the search query to, for example, only find popular tweets by adding the query paramter `result_type=popular`"
   ]
  },
  {
   "cell_type": "code",
   "execution_count": null,
   "metadata": {},
   "outputs": [],
   "source": [
    "query = '#Bitcoin -filter:retweets lang:en result_type=popular'\n",
    "df_tweets = conn.get_tweets(query=query)"
   ]
  },
  {
   "cell_type": "code",
   "execution_count": null,
   "metadata": {},
   "outputs": [
    {
     "data": {
      "text/html": [
       "<div>\n",
       "<style scoped>\n",
       "    .dataframe tbody tr th:only-of-type {\n",
       "        vertical-align: middle;\n",
       "    }\n",
       "\n",
       "    .dataframe tbody tr th {\n",
       "        vertical-align: top;\n",
       "    }\n",
       "\n",
       "    .dataframe thead th {\n",
       "        text-align: right;\n",
       "    }\n",
       "</style>\n",
       "<table border=\"1\" class=\"dataframe\">\n",
       "  <thead>\n",
       "    <tr style=\"text-align: right;\">\n",
       "      <th></th>\n",
       "      <th>tweet_id</th>\n",
       "      <th>tweet_text</th>\n",
       "      <th>tweet_created_at</th>\n",
       "      <th>tweet_user_id</th>\n",
       "      <th>user_name</th>\n",
       "      <th>user_screen_name</th>\n",
       "      <th>retweet_count</th>\n",
       "      <th>tweet_geo</th>\n",
       "      <th>tweet_coordinates</th>\n",
       "    </tr>\n",
       "  </thead>\n",
       "  <tbody>\n",
       "    <tr>\n",
       "      <th>0</th>\n",
       "      <td>1275022550188339203</td>\n",
       "      <td>#CRYPTO #BITCOIN #FOREX\\nMarket capitalisation...</td>\n",
       "      <td>2020-06-22 11:07:19</td>\n",
       "      <td>1125345616152997888</td>\n",
       "      <td>Nick Walterson</td>\n",
       "      <td>NickWalterson</td>\n",
       "      <td>0</td>\n",
       "      <td>None</td>\n",
       "      <td>None</td>\n",
       "    </tr>\n",
       "    <tr>\n",
       "      <th>1</th>\n",
       "      <td>1275022451861344256</td>\n",
       "      <td>Whose the winner of the war ? https://t.co/TxC...</td>\n",
       "      <td>2020-06-22 11:06:55</td>\n",
       "      <td>1097488661699006464</td>\n",
       "      <td>The Bitcoin Street Journal</td>\n",
       "      <td>BTCstJournal</td>\n",
       "      <td>0</td>\n",
       "      <td>None</td>\n",
       "      <td>None</td>\n",
       "    </tr>\n",
       "    <tr>\n",
       "      <th>2</th>\n",
       "      <td>1275022421020553219</td>\n",
       "      <td>My new custom trading posters arrived! :D #tra...</td>\n",
       "      <td>2020-06-22 11:06:48</td>\n",
       "      <td>956333887801700353</td>\n",
       "      <td>Bitcoin Billy</td>\n",
       "      <td>tradingyid</td>\n",
       "      <td>0</td>\n",
       "      <td>None</td>\n",
       "      <td>None</td>\n",
       "    </tr>\n",
       "    <tr>\n",
       "      <th>3</th>\n",
       "      <td>1275022414070657024</td>\n",
       "      <td>The next bull run will put #Bitcoin on par wit...</td>\n",
       "      <td>2020-06-22 11:06:46</td>\n",
       "      <td>1208002249873645568</td>\n",
       "      <td>Bitcoin_Facts 💯🎖️😍</td>\n",
       "      <td>JKELLY47865053</td>\n",
       "      <td>0</td>\n",
       "      <td>None</td>\n",
       "      <td>None</td>\n",
       "    </tr>\n",
       "    <tr>\n",
       "      <th>4</th>\n",
       "      <td>1275022409192493057</td>\n",
       "      <td>Both support and resistance levels are crucial...</td>\n",
       "      <td>2020-06-22 11:06:45</td>\n",
       "      <td>1267736388797001728</td>\n",
       "      <td>davide</td>\n",
       "      <td>DavideDavidclar</td>\n",
       "      <td>0</td>\n",
       "      <td>None</td>\n",
       "      <td>None</td>\n",
       "    </tr>\n",
       "  </tbody>\n",
       "</table>\n",
       "</div>"
      ],
      "text/plain": [
       "              tweet_id                                         tweet_text  \\\n",
       "0  1275022550188339203  #CRYPTO #BITCOIN #FOREX\\nMarket capitalisation...   \n",
       "1  1275022451861344256  Whose the winner of the war ? https://t.co/TxC...   \n",
       "2  1275022421020553219  My new custom trading posters arrived! :D #tra...   \n",
       "3  1275022414070657024  The next bull run will put #Bitcoin on par wit...   \n",
       "4  1275022409192493057  Both support and resistance levels are crucial...   \n",
       "\n",
       "     tweet_created_at        tweet_user_id                   user_name  \\\n",
       "0 2020-06-22 11:07:19  1125345616152997888              Nick Walterson   \n",
       "1 2020-06-22 11:06:55  1097488661699006464  The Bitcoin Street Journal   \n",
       "2 2020-06-22 11:06:48   956333887801700353               Bitcoin Billy   \n",
       "3 2020-06-22 11:06:46  1208002249873645568          Bitcoin_Facts 💯🎖️😍   \n",
       "4 2020-06-22 11:06:45  1267736388797001728                      davide   \n",
       "\n",
       "  user_screen_name  retweet_count tweet_geo tweet_coordinates  \n",
       "0    NickWalterson              0      None              None  \n",
       "1     BTCstJournal              0      None              None  \n",
       "2       tradingyid              0      None              None  \n",
       "3   JKELLY47865053              0      None              None  \n",
       "4  DavideDavidclar              0      None              None  "
      ]
     },
     "execution_count": null,
     "metadata": {},
     "output_type": "execute_result"
    }
   ],
   "source": [
    "df_tweets.head()"
   ]
  },
  {
   "cell_type": "code",
   "execution_count": null,
   "metadata": {},
   "outputs": [
    {
     "data": {
      "text/plain": [
       "(1000, 9)"
      ]
     },
     "execution_count": null,
     "metadata": {},
     "output_type": "execute_result"
    }
   ],
   "source": [
    "df_tweets.shape"
   ]
  },
  {
   "cell_type": "markdown",
   "metadata": {},
   "source": [
    "For more information on twitter search please consult the twitter [standard search operator reference](https://developer.twitter.com/en/docs/tweets/search/guides/standard-operators), the twitter [standard search API reference](https://developer.twitter.com/en/docs/tweets/search/api-reference/get-search-tweets), and the [tweepy Api reference](http://docs.tweepy.org/en/latest/index.html).                                                          "
   ]
  },
  {
   "cell_type": "code",
   "execution_count": null,
   "metadata": {},
   "outputs": [],
   "source": []
  }
 ],
 "metadata": {
  "kernelspec": {
   "display_name": "Python [conda env:btc_tw] *",
   "language": "python",
   "name": "conda-env-btc_tw-py"
  }
 },
 "nbformat": 4,
 "nbformat_minor": 4
}
