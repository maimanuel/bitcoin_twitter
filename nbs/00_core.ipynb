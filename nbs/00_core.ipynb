{
 "cells": [
  {
   "cell_type": "code",
   "execution_count": null,
   "metadata": {},
   "outputs": [],
   "source": [
    "# default_exp core"
   ]
  },
  {
   "cell_type": "markdown",
   "metadata": {},
   "source": [
    "# Core\n",
    "\n",
    "> API details."
   ]
  },
  {
   "cell_type": "code",
   "execution_count": null,
   "metadata": {},
   "outputs": [],
   "source": [
    "#export\n",
    "from nbdev.showdoc import *\n",
    "import os\n",
    "import json\n",
    "import urllib.parse\n",
    "import requests\n",
    "from requests.auth import AuthBase\n",
    "import tweepy as tw\n",
    "import pandas as pd"
   ]
  },
  {
   "cell_type": "code",
   "execution_count": null,
   "metadata": {},
   "outputs": [],
   "source": [
    "#export \n",
    "class connector:\n",
    "    def __init__(self,consumer_key, consumer_secret,n_items=1000,\n",
    "                query='#Bitcoin+bitcoin\" -filter:retweets lang:en'):\n",
    "        self.auth = tw.OAuthHandler(consumer_key, consumer_secret)\n",
    "        self.n_items = n_items,\n",
    "        self.query = query\n",
    "        self.api = tw.API(self.auth)\n",
    "        \n",
    "    def get_tweets(self,query='',n_items=''):\n",
    "        if query=='':\n",
    "            query=self.query\n",
    "        if n_items == '':\n",
    "            n_times=self.n_items\n",
    "        info = [[tweet.id,\n",
    "                 tweet.text,\n",
    "                 tweet.created_at,\n",
    "                 tweet.user.id,\n",
    "                 tweet.user.name,\n",
    "                 tweet.user.screen_name,\n",
    "                 tweet.retweet_count,\n",
    "                 tweet.geo,\n",
    "                 tweet.coordinates] \n",
    "                for tweet in tw.Cursor(self.api.search, q=self.query)\\\n",
    "                .items(1000)]\n",
    "        df_tweets = pd.DataFrame(info)\n",
    "        df_tweets.columns = ['tweet_id',\n",
    "                     'tweet_text',\n",
    "                     'tweet_created_at',\n",
    "                     'tweet_user_id',\n",
    "                     'user_name',\n",
    "                     'user_screen_name',\n",
    "                     'retweet_count',\n",
    "                     'tweet_geo',\n",
    "                     'tweet_coordinates']\n",
    "        return df_tweets"
   ]
  },
  {
   "cell_type": "code",
   "execution_count": null,
   "metadata": {},
   "outputs": [],
   "source": [
    "#hide\n",
    "from twitter_credentials import * \n",
    "conn = connector(consumer_key=CONSUMER_KEY, consumer_secret=CONSUMER_SECRET)\n",
    "df_tweets = conn.get_tweets()"
   ]
  },
  {
   "cell_type": "code",
   "execution_count": null,
   "metadata": {},
   "outputs": [
    {
     "ename": "NameError",
     "evalue": "name 'df_tweets' is not defined",
     "output_type": "error",
     "traceback": [
      "\u001b[0;31m---------------------------------------------------------------------------\u001b[0m",
      "\u001b[0;31mNameError\u001b[0m                                 Traceback (most recent call last)",
      "\u001b[0;32m<ipython-input-2-b885b7f2fa34>\u001b[0m in \u001b[0;36m<module>\u001b[0;34m\u001b[0m\n\u001b[1;32m      1\u001b[0m \u001b[0;31m#hide\u001b[0m\u001b[0;34m\u001b[0m\u001b[0;34m\u001b[0m\u001b[0;34m\u001b[0m\u001b[0m\n\u001b[0;32m----> 2\u001b[0;31m \u001b[0mdf_tweets\u001b[0m\u001b[0;34m.\u001b[0m\u001b[0mhead\u001b[0m\u001b[0;34m(\u001b[0m\u001b[0;34m)\u001b[0m\u001b[0;34m\u001b[0m\u001b[0;34m\u001b[0m\u001b[0m\n\u001b[0m",
      "\u001b[0;31mNameError\u001b[0m: name 'df_tweets' is not defined"
     ]
    }
   ],
   "source": [
    "#hide\n",
    "df_tweets.head()"
   ]
  },
  {
   "cell_type": "code",
   "execution_count": null,
   "metadata": {},
   "outputs": [],
   "source": []
  }
 ],
 "metadata": {
  "kernelspec": {
   "display_name": "Python [conda env:btc_tw] *",
   "language": "python",
   "name": "conda-env-btc_tw-py"
  }
 },
 "nbformat": 4,
 "nbformat_minor": 4
}
