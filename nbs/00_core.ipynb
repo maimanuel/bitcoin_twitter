{
 "cells": [
  {
   "cell_type": "code",
   "execution_count": null,
   "metadata": {},
   "outputs": [],
   "source": [
    "# default_exp core"
   ]
  },
  {
   "cell_type": "markdown",
   "metadata": {},
   "source": [
    "# Core\n",
    "\n",
    "> API details."
   ]
  },
  {
   "cell_type": "code",
   "execution_count": null,
   "metadata": {},
   "outputs": [],
   "source": [
    "#hide\n",
    "from nbdev.showdoc import *\n",
    "import os\n",
    "import json\n",
    "import urllib.parse\n",
    "import requests\n",
    "from requests.auth import AuthBase"
   ]
  },
  {
   "cell_type": "markdown",
   "metadata": {},
   "source": [
    "# Tweepy"
   ]
  },
  {
   "cell_type": "code",
   "execution_count": null,
   "metadata": {},
   "outputs": [],
   "source": [
    "import os\n",
    "import tweepy as tw\n",
    "import pandas as pd"
   ]
  },
  {
   "cell_type": "code",
   "execution_count": null,
   "metadata": {},
   "outputs": [
    {
     "ename": "SyntaxError",
     "evalue": "invalid syntax (<ipython-input-134-93be8f10e400>, line 1)",
     "output_type": "error",
     "traceback": [
      "\u001b[0;36m  File \u001b[0;32m\"<ipython-input-134-93be8f10e400>\"\u001b[0;36m, line \u001b[0;32m1\u001b[0m\n\u001b[0;31m    CONSUMER_KEY =\u001b[0m\n\u001b[0m                   ^\u001b[0m\n\u001b[0;31mSyntaxError\u001b[0m\u001b[0;31m:\u001b[0m invalid syntax\n"
     ]
    }
   ],
   "source": [
    "CONSUMER_KEY = \n",
    "CONSUMER_SECRET = "
   ]
  },
  {
   "cell_type": "code",
   "execution_count": null,
   "metadata": {},
   "outputs": [],
   "source": [
    "auth = tw.OAuthHandler(consumer_key=CONSUMER_KEY, consumer_secret=CONSUMER_SECRET)\n",
    "#auth.set_access_token(access_token, access_token_secret)"
   ]
  },
  {
   "cell_type": "code",
   "execution_count": null,
   "metadata": {},
   "outputs": [],
   "source": [
    "api = tw.API(auth)\n",
    "\n",
    "info = [[tweet.id,tweet.text,tweet.created_at,tweet.user.id,tweet.user.name,tweet.user.screen_name,tweet.retweet_count,tweet.geo,tweet.coordinates] \n",
    "        for tweet in tw.Cursor(api.search, q='#Bitcoin+bitcoin\" -filter:retweets lang:en').items(200000)]"
   ]
  },
  {
   "cell_type": "code",
   "execution_count": null,
   "metadata": {},
   "outputs": [],
   "source": [
    "df_tweets = pd.DataFrame(info)\n",
    "df_tweets.columns = ['tweet_id','tweet_text','tweet_created_at','tweet_user_id','user_name','user_screen_name','retweet_count','tweet_geo','tweet_coordinates']"
   ]
  },
  {
   "cell_type": "code",
   "execution_count": null,
   "metadata": {},
   "outputs": [],
   "source": [
    "df_tweets.to_csv('tweets.csv',index=False)"
   ]
  },
  {
   "cell_type": "code",
   "execution_count": null,
   "metadata": {},
   "outputs": [
    {
     "data": {
      "text/html": [
       "<div>\n",
       "<style scoped>\n",
       "    .dataframe tbody tr th:only-of-type {\n",
       "        vertical-align: middle;\n",
       "    }\n",
       "\n",
       "    .dataframe tbody tr th {\n",
       "        vertical-align: top;\n",
       "    }\n",
       "\n",
       "    .dataframe thead th {\n",
       "        text-align: right;\n",
       "    }\n",
       "</style>\n",
       "<table border=\"1\" class=\"dataframe\">\n",
       "  <thead>\n",
       "    <tr style=\"text-align: right;\">\n",
       "      <th></th>\n",
       "      <th>tweet_id</th>\n",
       "      <th>tweet_text</th>\n",
       "      <th>tweet_created_at</th>\n",
       "      <th>tweet_user_id</th>\n",
       "      <th>user_name</th>\n",
       "      <th>user_screen_name</th>\n",
       "      <th>retweet_count</th>\n",
       "      <th>tweet_geo</th>\n",
       "      <th>tweet_coordinates</th>\n",
       "    </tr>\n",
       "  </thead>\n",
       "  <tbody>\n",
       "    <tr>\n",
       "      <th>0</th>\n",
       "      <td>1273348834823999489</td>\n",
       "      <td>Hey @stoolpresidente closing bell done come ov...</td>\n",
       "      <td>2020-06-17 20:16:34</td>\n",
       "      <td>28808391</td>\n",
       "      <td>On Demand Crypto</td>\n",
       "      <td>ondemandcrypto</td>\n",
       "      <td>0</td>\n",
       "      <td>None</td>\n",
       "      <td>None</td>\n",
       "    </tr>\n",
       "    <tr>\n",
       "      <th>1</th>\n",
       "      <td>1273348789433257984</td>\n",
       "      <td>I will take profit from 8900$-8800$. #BTC #Bit...</td>\n",
       "      <td>2020-06-17 20:16:23</td>\n",
       "      <td>1268879316168966144</td>\n",
       "      <td>Thunder Trader</td>\n",
       "      <td>thunder_trader</td>\n",
       "      <td>0</td>\n",
       "      <td>None</td>\n",
       "      <td>None</td>\n",
       "    </tr>\n",
       "    <tr>\n",
       "      <th>2</th>\n",
       "      <td>1273348789214908416</td>\n",
       "      <td>Zoom is enabling E2EE on free accounts if you ...</td>\n",
       "      <td>2020-06-17 20:16:23</td>\n",
       "      <td>17246026</td>\n",
       "      <td>Mike Olthoff ⚡🐶💩👑</td>\n",
       "      <td>olthoff</td>\n",
       "      <td>0</td>\n",
       "      <td>None</td>\n",
       "      <td>None</td>\n",
       "    </tr>\n",
       "    <tr>\n",
       "      <th>3</th>\n",
       "      <td>1273348766729297920</td>\n",
       "      <td>Fed Chair Powell Warns of ‘Unsustainable’ Budg...</td>\n",
       "      <td>2020-06-17 20:16:18</td>\n",
       "      <td>1255271270</td>\n",
       "      <td>BitValley</td>\n",
       "      <td>VernonBitValley</td>\n",
       "      <td>0</td>\n",
       "      <td>None</td>\n",
       "      <td>None</td>\n",
       "    </tr>\n",
       "    <tr>\n",
       "      <th>4</th>\n",
       "      <td>1273348716540256256</td>\n",
       "      <td>@knutsvanholm I assume you use fiat to buy #bi...</td>\n",
       "      <td>2020-06-17 20:16:06</td>\n",
       "      <td>2531074334</td>\n",
       "      <td>First Mover Bitcoin Drama Popcorn Eater</td>\n",
       "      <td>footiepresident</td>\n",
       "      <td>1</td>\n",
       "      <td>None</td>\n",
       "      <td>None</td>\n",
       "    </tr>\n",
       "    <tr>\n",
       "      <th>...</th>\n",
       "      <td>...</td>\n",
       "      <td>...</td>\n",
       "      <td>...</td>\n",
       "      <td>...</td>\n",
       "      <td>...</td>\n",
       "      <td>...</td>\n",
       "      <td>...</td>\n",
       "      <td>...</td>\n",
       "      <td>...</td>\n",
       "    </tr>\n",
       "    <tr>\n",
       "      <th>1633</th>\n",
       "      <td>1273286701885120512</td>\n",
       "      <td>Last trade made 2.52% in 1 day and 14 hours   ...</td>\n",
       "      <td>2020-06-17 16:09:40</td>\n",
       "      <td>1256270567981944832</td>\n",
       "      <td>xrcytvub</td>\n",
       "      <td>xrcytvub</td>\n",
       "      <td>0</td>\n",
       "      <td>None</td>\n",
       "      <td>None</td>\n",
       "    </tr>\n",
       "    <tr>\n",
       "      <th>1634</th>\n",
       "      <td>1273286671946178560</td>\n",
       "      <td>Decentralized Tech Can Protect Activists From ...</td>\n",
       "      <td>2020-06-17 16:09:33</td>\n",
       "      <td>1041452573323157504</td>\n",
       "      <td>Cash Tech News 🚀💰💳</td>\n",
       "      <td>CashTechNews</td>\n",
       "      <td>0</td>\n",
       "      <td>None</td>\n",
       "      <td>None</td>\n",
       "    </tr>\n",
       "    <tr>\n",
       "      <th>1635</th>\n",
       "      <td>1273286655290548231</td>\n",
       "      <td>🔄 Prices update in $EUR (1 hour):\\n\\n$BTC   - ...</td>\n",
       "      <td>2020-06-17 16:09:29</td>\n",
       "      <td>1025494047564226560</td>\n",
       "      <td>Cryptocurrencies / EUR</td>\n",
       "      <td>cryptosEUR</td>\n",
       "      <td>0</td>\n",
       "      <td>None</td>\n",
       "      <td>None</td>\n",
       "    </tr>\n",
       "    <tr>\n",
       "      <th>1636</th>\n",
       "      <td>1273286653961023488</td>\n",
       "      <td>🔄 Prices update in $USD (1 hour):\\n\\n$BTC   - ...</td>\n",
       "      <td>2020-06-17 16:09:29</td>\n",
       "      <td>1024959511071797248</td>\n",
       "      <td>Cryptocurrencies / USD</td>\n",
       "      <td>cryptosUSD</td>\n",
       "      <td>0</td>\n",
       "      <td>None</td>\n",
       "      <td>None</td>\n",
       "    </tr>\n",
       "    <tr>\n",
       "      <th>1637</th>\n",
       "      <td>1273286635539574784</td>\n",
       "      <td>🔄 Prices update in $USDT (1 hour):\\n\\n$BTC - 9...</td>\n",
       "      <td>2020-06-17 16:09:25</td>\n",
       "      <td>1000390115611566080</td>\n",
       "      <td>BinancePrices</td>\n",
       "      <td>BinancePrices</td>\n",
       "      <td>0</td>\n",
       "      <td>None</td>\n",
       "      <td>None</td>\n",
       "    </tr>\n",
       "  </tbody>\n",
       "</table>\n",
       "<p>1638 rows × 9 columns</p>\n",
       "</div>"
      ],
      "text/plain": [
       "                 tweet_id                                         tweet_text  \\\n",
       "0     1273348834823999489  Hey @stoolpresidente closing bell done come ov...   \n",
       "1     1273348789433257984  I will take profit from 8900$-8800$. #BTC #Bit...   \n",
       "2     1273348789214908416  Zoom is enabling E2EE on free accounts if you ...   \n",
       "3     1273348766729297920  Fed Chair Powell Warns of ‘Unsustainable’ Budg...   \n",
       "4     1273348716540256256  @knutsvanholm I assume you use fiat to buy #bi...   \n",
       "...                   ...                                                ...   \n",
       "1633  1273286701885120512  Last trade made 2.52% in 1 day and 14 hours   ...   \n",
       "1634  1273286671946178560  Decentralized Tech Can Protect Activists From ...   \n",
       "1635  1273286655290548231  🔄 Prices update in $EUR (1 hour):\\n\\n$BTC   - ...   \n",
       "1636  1273286653961023488  🔄 Prices update in $USD (1 hour):\\n\\n$BTC   - ...   \n",
       "1637  1273286635539574784  🔄 Prices update in $USDT (1 hour):\\n\\n$BTC - 9...   \n",
       "\n",
       "        tweet_created_at        tweet_user_id  \\\n",
       "0    2020-06-17 20:16:34             28808391   \n",
       "1    2020-06-17 20:16:23  1268879316168966144   \n",
       "2    2020-06-17 20:16:23             17246026   \n",
       "3    2020-06-17 20:16:18           1255271270   \n",
       "4    2020-06-17 20:16:06           2531074334   \n",
       "...                  ...                  ...   \n",
       "1633 2020-06-17 16:09:40  1256270567981944832   \n",
       "1634 2020-06-17 16:09:33  1041452573323157504   \n",
       "1635 2020-06-17 16:09:29  1025494047564226560   \n",
       "1636 2020-06-17 16:09:29  1024959511071797248   \n",
       "1637 2020-06-17 16:09:25  1000390115611566080   \n",
       "\n",
       "                                    user_name user_screen_name  retweet_count  \\\n",
       "0                            On Demand Crypto   ondemandcrypto              0   \n",
       "1                              Thunder Trader   thunder_trader              0   \n",
       "2                           Mike Olthoff ⚡🐶💩👑          olthoff              0   \n",
       "3                                   BitValley  VernonBitValley              0   \n",
       "4     First Mover Bitcoin Drama Popcorn Eater  footiepresident              1   \n",
       "...                                       ...              ...            ...   \n",
       "1633                                 xrcytvub         xrcytvub              0   \n",
       "1634                       Cash Tech News 🚀💰💳     CashTechNews              0   \n",
       "1635                   Cryptocurrencies / EUR       cryptosEUR              0   \n",
       "1636                   Cryptocurrencies / USD       cryptosUSD              0   \n",
       "1637                            BinancePrices    BinancePrices              0   \n",
       "\n",
       "     tweet_geo tweet_coordinates  \n",
       "0         None              None  \n",
       "1         None              None  \n",
       "2         None              None  \n",
       "3         None              None  \n",
       "4         None              None  \n",
       "...        ...               ...  \n",
       "1633      None              None  \n",
       "1634      None              None  \n",
       "1635      None              None  \n",
       "1636      None              None  \n",
       "1637      None              None  \n",
       "\n",
       "[1638 rows x 9 columns]"
      ]
     },
     "execution_count": null,
     "metadata": {},
     "output_type": "execute_result"
    }
   ],
   "source": [
    "df_tweets"
   ]
  },
  {
   "cell_type": "code",
   "execution_count": null,
   "metadata": {},
   "outputs": [],
   "source": [
    "#tweet.id\n",
    "#tweet.user.id\n",
    "#tweet.user.name\n",
    "#tweet.user.screen_name\n",
    "#tweet.retweet_count\n",
    "#tweet.user.followers_ids()"
   ]
  },
  {
   "cell_type": "code",
   "execution_count": null,
   "metadata": {},
   "outputs": [],
   "source": []
  },
  {
   "cell_type": "code",
   "execution_count": null,
   "metadata": {},
   "outputs": [
    {
     "data": {
      "text/plain": [
       "408"
      ]
     },
     "execution_count": null,
     "metadata": {},
     "output_type": "execute_result"
    }
   ],
   "source": [
    "tweet.user.friends_count"
   ]
  },
  {
   "cell_type": "code",
   "execution_count": null,
   "metadata": {},
   "outputs": [
    {
     "ename": "AttributeError",
     "evalue": "'ResultSet' object has no attribute 'id'",
     "output_type": "error",
     "traceback": [
      "\u001b[0;31m---------------------------------------------------------------------------\u001b[0m",
      "\u001b[0;31mAttributeError\u001b[0m                            Traceback (most recent call last)",
      "\u001b[0;32m<ipython-input-116-cf2517e9acf9>\u001b[0m in \u001b[0;36m<module>\u001b[0;34m\u001b[0m\n\u001b[0;32m----> 1\u001b[0;31m \u001b[0mtweet\u001b[0m\u001b[0;34m.\u001b[0m\u001b[0muser\u001b[0m\u001b[0;34m.\u001b[0m\u001b[0mfriends\u001b[0m\u001b[0;34m(\u001b[0m\u001b[0;34m)\u001b[0m\u001b[0;34m.\u001b[0m\u001b[0mid\u001b[0m\u001b[0;34m\u001b[0m\u001b[0;34m\u001b[0m\u001b[0m\n\u001b[0m",
      "\u001b[0;31mAttributeError\u001b[0m: 'ResultSet' object has no attribute 'id'"
     ]
    }
   ],
   "source": [
    "tweet.user.friends().id"
   ]
  },
  {
   "cell_type": "code",
   "execution_count": null,
   "metadata": {},
   "outputs": [],
   "source": []
  }
 ],
 "metadata": {
  "kernelspec": {
   "display_name": "Python 3",
   "language": "python",
   "name": "python3"
  }
 },
 "nbformat": 4,
 "nbformat_minor": 4
}
